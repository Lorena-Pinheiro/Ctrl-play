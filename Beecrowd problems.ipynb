{
 "cells": [
  {
   "cell_type": "code",
   "execution_count": 1,
   "id": "79dd69ea",
   "metadata": {},
   "outputs": [
    {
     "name": "stdout",
     "output_type": "stream",
     "text": [
      "5\n",
      "8\n",
      "X = 13\n"
     ]
    }
   ],
   "source": [
    "a = int(input())\n",
    "b = int(input())\n",
    "x = a + b\n",
    "print('X = %d' %x)"
   ]
  },
  {
   "cell_type": "code",
   "execution_count": 13,
   "id": "f7dad51b",
   "metadata": {},
   "outputs": [
    {
     "name": "stdout",
     "output_type": "stream",
     "text": [
      "2\n",
      "A=12.5664\n"
     ]
    }
   ],
   "source": [
    "raio = float(input())\n",
    "n = 3.14159\n",
    "area = n * (raio * raio)\n",
    "print('A=%.4f' %area)"
   ]
  },
  {
   "cell_type": "code",
   "execution_count": 14,
   "id": "db810a24",
   "metadata": {},
   "outputs": [
    {
     "name": "stdout",
     "output_type": "stream",
     "text": [
      "30\n",
      "10\n",
      "SOMA = 40\n"
     ]
    }
   ],
   "source": [
    "a = int(input())\n",
    "b = int(input())\n",
    "soma = a + b\n",
    "print('SOMA = %d' %soma)"
   ]
  },
  {
   "cell_type": "code",
   "execution_count": 15,
   "id": "21071238",
   "metadata": {},
   "outputs": [
    {
     "name": "stdout",
     "output_type": "stream",
     "text": [
      "3\n",
      "9\n",
      "PROD = 27\n"
     ]
    }
   ],
   "source": [
    "a = int(input())\n",
    "b = int(input())\n",
    "prod = a * b\n",
    "print('PROD = %d' %prod)"
   ]
  },
  {
   "cell_type": "code",
   "execution_count": 24,
   "id": "74af0635",
   "metadata": {},
   "outputs": [
    {
     "name": "stdout",
     "output_type": "stream",
     "text": [
      "0.0\n",
      "7.1\n",
      "MEDIA = 4.84091\n"
     ]
    }
   ],
   "source": [
    "a = float(input())\n",
    "b = float(input())\n",
    "a = a * 3.5\n",
    "b = b * 7.5\n",
    "media = (a + b)/(3.5 + 7.5)\n",
    "print('MEDIA = %.5f' %media)"
   ]
  },
  {
   "cell_type": "code",
   "execution_count": 27,
   "id": "97fdd4ee",
   "metadata": {},
   "outputs": [
    {
     "name": "stdout",
     "output_type": "stream",
     "text": [
      "5.0\n",
      "6.0\n",
      "7.0\n",
      "MEDIA = 6.3\n"
     ]
    }
   ],
   "source": [
    "a = float(input())\n",
    "b = float(input())\n",
    "c = float(input())\n",
    "a = a * 2\n",
    "b = b * 3\n",
    "c = c * 5\n",
    "media = (a + b + c)/(2 + 3 + 5)\n",
    "print('MEDIA = %.1f' %media)"
   ]
  },
  {
   "cell_type": "code",
   "execution_count": 29,
   "id": "fd60f4d7",
   "metadata": {},
   "outputs": [
    {
     "name": "stdout",
     "output_type": "stream",
     "text": [
      "0\n",
      "0\n",
      "7\n",
      "8\n",
      "DIFERENCA = -56\n"
     ]
    }
   ],
   "source": [
    "a = int(input())\n",
    "b = int(input())\n",
    "c = int(input())\n",
    "d = int(input())\n",
    "diferenca = a * b - c * d\n",
    "print('DIFERENCA = %d' %diferenca)"
   ]
  },
  {
   "cell_type": "code",
   "execution_count": null,
   "id": "837a19db",
   "metadata": {},
   "outputs": [],
   "source": [
    "\n"
   ]
  }
 ],
 "metadata": {
  "kernelspec": {
   "display_name": "Python 3 (ipykernel)",
   "language": "python",
   "name": "python3"
  },
  "language_info": {
   "codemirror_mode": {
    "name": "ipython",
    "version": 3
   },
   "file_extension": ".py",
   "mimetype": "text/x-python",
   "name": "python",
   "nbconvert_exporter": "python",
   "pygments_lexer": "ipython3",
   "version": "3.9.7"
  }
 },
 "nbformat": 4,
 "nbformat_minor": 5
}
