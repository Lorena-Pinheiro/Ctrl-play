{
 "cells": [
  {
   "cell_type": "code",
   "execution_count": 4,
   "id": "49ddde85",
   "metadata": {},
   "outputs": [],
   "source": [
    "class Casa():\n",
    "    rua = \"rua bahia\"\n",
    "    bairro = \"vila augistinho\"\n",
    "    cep = \"65548\"\n",
    "    \n",
    "    def enderecoCompleto(self):\n",
    "        return \"Endereco completo:\"+self.rua+\",\"+self.bairro+\" \"+self.cep"
   ]
  },
  {
   "cell_type": "code",
   "execution_count": 5,
   "id": "55b4f908",
   "metadata": {},
   "outputs": [
    {
     "name": "stdout",
     "output_type": "stream",
     "text": [
      "<class '__main__.Casa'>\n"
     ]
    }
   ],
   "source": [
    "casa1 = Casa()\n",
    "print(type(casa1))"
   ]
  },
  {
   "cell_type": "code",
   "execution_count": 6,
   "id": "25c1871f",
   "metadata": {},
   "outputs": [
    {
     "name": "stdout",
     "output_type": "stream",
     "text": [
      "Endereco completo:rua bahia,vila augistinho 65548\n"
     ]
    }
   ],
   "source": [
    "print(casa1.enderecoCompleto())"
   ]
  },
  {
   "cell_type": "code",
   "execution_count": 10,
   "id": "03b5e1cd",
   "metadata": {},
   "outputs": [
    {
     "name": "stdout",
     "output_type": "stream",
     "text": [
      "rua alguma coisa\n",
      "cnij\n",
      "32455\n",
      "Endereco completo:rua alguma coisa,cnij 32455\n"
     ]
    }
   ],
   "source": [
    "class Casa():\n",
    "    def __init__(self,rua,bairro,cep):\n",
    "        self.rua = rua\n",
    "        self.bairro = bairro\n",
    "        self.cep = cep\n",
    "    \n",
    "    def enderecoCompleto(self):\n",
    "        return \"Endereco completo:\"+self.rua+\",\"+self.bairro+\" \"+self.cep\n",
    "\n",
    "rua = input()\n",
    "bairro = input()\n",
    "cep = input()\n",
    "casa1= Casa(rua = rua, bairro = bairro, cep = cep)\n",
    "print(casa1.enderecoCompleto())\n"
   ]
  },
  {
   "cell_type": "raw",
   "id": "6463307d",
   "metadata": {},
   "source": []
  },
  {
   "cell_type": "code",
   "execution_count": null,
   "id": "308319cb",
   "metadata": {},
   "outputs": [],
   "source": []
  }
 ],
 "metadata": {
  "kernelspec": {
   "display_name": "Python 3 (ipykernel)",
   "language": "python",
   "name": "python3"
  },
  "language_info": {
   "codemirror_mode": {
    "name": "ipython",
    "version": 3
   },
   "file_extension": ".py",
   "mimetype": "text/x-python",
   "name": "python",
   "nbconvert_exporter": "python",
   "pygments_lexer": "ipython3",
   "version": "3.9.7"
  }
 },
 "nbformat": 4,
 "nbformat_minor": 5
}
