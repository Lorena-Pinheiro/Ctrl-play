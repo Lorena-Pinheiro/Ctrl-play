{
 "cells": [
  {
   "cell_type": "code",
   "execution_count": 1,
   "id": "d3ea0fef",
   "metadata": {},
   "outputs": [],
   "source": [
    "alunos = ['eduardo','maria','luis','pedro','joão','leonardo','walter','maria luiza','bruno','rafael']"
   ]
  },
  {
   "cell_type": "code",
   "execution_count": 3,
   "id": "ddcfd359",
   "metadata": {},
   "outputs": [
    {
     "name": "stdout",
     "output_type": "stream",
     "text": [
      "eduardo\n"
     ]
    }
   ],
   "source": [
    "print(alunos [0])"
   ]
  },
  {
   "cell_type": "code",
   "execution_count": 7,
   "id": "505d2c5d",
   "metadata": {},
   "outputs": [],
   "source": [
    "def soma(a,b):\n",
    "    print(a+b)"
   ]
  },
  {
   "cell_type": "code",
   "execution_count": 8,
   "id": "f69518e0",
   "metadata": {},
   "outputs": [
    {
     "name": "stdout",
     "output_type": "stream",
     "text": [
      "7\n"
     ]
    }
   ],
   "source": [
    "soma(3,4)"
   ]
  },
  {
   "cell_type": "code",
   "execution_count": 13,
   "id": "923c2035",
   "metadata": {},
   "outputs": [],
   "source": [
    "def imprimeNome(nome):\n",
    "    print(\"meu nome é : \"+ nome)"
   ]
  },
  {
   "cell_type": "code",
   "execution_count": 14,
   "id": "908e07b2",
   "metadata": {},
   "outputs": [
    {
     "name": "stdout",
     "output_type": "stream",
     "text": [
      "meu nome é : eduardo\n"
     ]
    }
   ],
   "source": [
    "imprimeNome('eduardo')"
   ]
  },
  {
   "cell_type": "code",
   "execution_count": 15,
   "id": "fddc16f4",
   "metadata": {},
   "outputs": [],
   "source": [
    "def divisão(T,D):\n",
    "    print(T/D)"
   ]
  },
  {
   "cell_type": "code",
   "execution_count": 16,
   "id": "6bc3d4a0",
   "metadata": {},
   "outputs": [
    {
     "name": "stdout",
     "output_type": "stream",
     "text": [
      "3.0\n"
     ]
    }
   ],
   "source": [
    "divisão(9,3)"
   ]
  },
  {
   "cell_type": "code",
   "execution_count": 17,
   "id": "9031a5a3",
   "metadata": {},
   "outputs": [],
   "source": [
    "def calcTempo(distancia,tempo):\n",
    "    return distancia/tempo"
   ]
  },
  {
   "cell_type": "code",
   "execution_count": 18,
   "id": "4456e09b",
   "metadata": {},
   "outputs": [
    {
     "name": "stdout",
     "output_type": "stream",
     "text": [
      "50.0\n"
     ]
    }
   ],
   "source": [
    "aux = calcTempo(100,2)\n",
    "print(aux)"
   ]
  },
  {
   "cell_type": "code",
   "execution_count": 20,
   "id": "2f1e5089",
   "metadata": {},
   "outputs": [],
   "source": [
    "def VerificaAprovacao(nota):\n",
    "    if(nota > 6):\n",
    "        print('aprovado')\n",
    "    elif(nota > 3):\n",
    "            print('recuperação')\n",
    "    else:\n",
    "        print('reprovado')"
   ]
  },
  {
   "cell_type": "code",
   "execution_count": 21,
   "id": "2fac0f91",
   "metadata": {},
   "outputs": [
    {
     "name": "stdout",
     "output_type": "stream",
     "text": [
      "recuperação\n"
     ]
    }
   ],
   "source": [
    "VerificaAprovacao(5)"
   ]
  },
  {
   "cell_type": "code",
   "execution_count": 31,
   "id": "bb1732ba",
   "metadata": {},
   "outputs": [
    {
     "name": "stdout",
     "output_type": "stream",
     "text": [
      "10\n",
      "10 Esta é a nota do aluno e o codigo do aluno é 364657\n"
     ]
    }
   ],
   "source": [
    "nota = 10\n",
    "cod = 364657\n",
    "print('%d' %nota)\n",
    "print('%d Esta é a nota do aluno e o codigo do aluno é %d' %(nota,cod))"
   ]
  },
  {
   "cell_type": "code",
   "execution_count": 35,
   "id": "6a94fd7f",
   "metadata": {},
   "outputs": [],
   "source": [
    "from turtle import *\n",
    "color('red','yellow')\n",
    "begin_fill()\n",
    "\n",
    "while True:\n",
    "    forward(200)\n",
    "    left(170)\n",
    "    if abs(pos()) <1:\n",
    "        break\n",
    "end_fill()\n",
    "done()"
   ]
  },
  {
   "cell_type": "code",
   "execution_count": null,
   "id": "15de13cf",
   "metadata": {},
   "outputs": [],
   "source": [
    "from turtle import *\n",
    "color('red','yellow')\n",
    "begin_fill()\n",
    "\n",
    "forward(200)\n",
    "left(270)\n",
    "forward(200)\n",
    "left(270)\n",
    "forward(200)\n",
    "left(270)\n",
    "forward(200)\n",
    "right(30)\n",
    "forward(200)\n",
    "right(120)\n",
    "forward(200)\n",
    "right(30)\n",
    "forward(50)\n",
    "right(90)\n",
    "forward(50)\n",
    "left(90)\n",
    "forward(50)\n",
    "left(90)\n",
    "forward(50)\n",
    "left(270)\n",
    "forward(100)\n",
    "right(90)\n",
    "forward(90)\n",
    "right(90)\n",
    "forward(70)\n",
    "left(90)\n",
    "foward(60)\n",
    "\n",
    "end_fill()\n",
    "done()"
   ]
  },
  {
   "cell_type": "code",
   "execution_count": null,
   "id": "104d2219",
   "metadata": {},
   "outputs": [],
   "source": []
  }
 ],
 "metadata": {
  "kernelspec": {
   "display_name": "Python 3 (ipykernel)",
   "language": "python",
   "name": "python3"
  },
  "language_info": {
   "codemirror_mode": {
    "name": "ipython",
    "version": 3
   },
   "file_extension": ".py",
   "mimetype": "text/x-python",
   "name": "python",
   "nbconvert_exporter": "python",
   "pygments_lexer": "ipython3",
   "version": "3.9.7"
  }
 },
 "nbformat": 4,
 "nbformat_minor": 5
}
